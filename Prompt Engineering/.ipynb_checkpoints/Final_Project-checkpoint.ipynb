{
 "cells": [
  {
   "cell_type": "code",
   "execution_count": 2,
   "id": "7f34a233",
   "metadata": {},
   "outputs": [],
   "source": [
    "import pandas as pd\n",
    "\n",
    "# Load the medical Excel file\n",
    "df = pd.read_csv(\"Symptom2Disease.csv\")\n",
    "\n",
    "# Extract relevant columns\n",
    "text_data = df[\"text\"]  # Text descriptions\n",
    "labels = df[\"label\"]  # Disease labels\n",
    "\n",
    "# Handle missing values if necessary\n",
    "df.dropna(subset=[\"label\", \"text\"], inplace=True)\n"
   ]
  },
  {
   "cell_type": "code",
   "execution_count": null,
   "id": "ef09ba7b",
   "metadata": {},
   "outputs": [],
   "source": [
    "pcsk_4uPApo_ALKoF2ZDCu73RhiFyqMM9XP4eSGxQTCwdHXwEPKbbN88DetenCdWkvCzRBJHiSL"
   ]
  }
 ],
 "metadata": {
  "kernelspec": {
   "display_name": "Python 3 (ipykernel)",
   "language": "python",
   "name": "python3"
  },
  "language_info": {
   "codemirror_mode": {
    "name": "ipython",
    "version": 3
   },
   "file_extension": ".py",
   "mimetype": "text/x-python",
   "name": "python",
   "nbconvert_exporter": "python",
   "pygments_lexer": "ipython3",
   "version": "3.11.4"
  }
 },
 "nbformat": 4,
 "nbformat_minor": 5
}
